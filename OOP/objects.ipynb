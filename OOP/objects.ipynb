{
 "cells": [
  {
   "cell_type": "code",
   "execution_count": 5,
   "metadata": {},
   "outputs": [],
   "source": [
    "# class definition /STATIC USAGE\n",
    "\n",
    "# let's create a class that describes English language\n",
    "\n",
    "class English:\n",
    "    #properties\n",
    "    alphabet=\"latin\"\n",
    "    total_words = 170_000\n",
    "    countries = 88\n",
    "\n",
    "    #methods\n",
    "    def sayHi():\n",
    "        print(\"Hello\")\n",
    "\n",
    "    def sayBye():\n",
    "        print(\"Bye\") \n",
    "\n",
    "    def sayThanks():\n",
    "        print(\"Thanks\") \n"
   ]
  },
  {
   "cell_type": "code",
   "execution_count": 4,
   "metadata": {},
   "outputs": [],
   "source": [
    "class Romanian:\n",
    "    #properties\n",
    "    alphabet=\"latin\"\n",
    "    total_words = 70_000\n",
    "    countries = 2\n",
    "    #methods\n",
    "    def sayHi():\n",
    "        print(\"Salut\")\n",
    "\n",
    "    def sayBye():\n",
    "        print(\"La revedere\") \n",
    "    \n",
    "    def sayThanks():\n",
    "        print(\"Mulțumesc\") "
   ]
  },
  {
   "cell_type": "code",
   "execution_count": 7,
   "metadata": {},
   "outputs": [],
   "source": [
    "class Spanish:\n",
    "    #properties\n",
    "    alphabet=\"latin\"\n",
    "    total_words = 93_000\n",
    "    countries = 21\n",
    "    #methods\n",
    "    def sayHi():\n",
    "        print(\"Hola\")\n",
    "\n",
    "    def sayBye():\n",
    "        print(\"Hasta luego\") \n",
    "    \n",
    "    def sayThanks():\n",
    "        print(\"Gracias\") "
   ]
  },
  {
   "cell_type": "code",
   "execution_count": 8,
   "metadata": {},
   "outputs": [
    {
     "name": "stdout",
     "output_type": "stream",
     "text": [
      "Hello\n",
      "Bye\n",
      "Thanks\n",
      "Salut\n",
      "La revedere\n",
      "Mulțumesc\n",
      "Hola\n",
      "Hasta luego\n",
      "Gracias\n"
     ]
    }
   ],
   "source": [
    "#usage\n",
    "\n",
    "English.sayHi()\n",
    "English.sayBye()\n",
    "English.sayThanks()\n",
    "Romanian.sayHi()\n",
    "Romanian.sayBye()\n",
    "Romanian.sayThanks()\n",
    "Spanish.sayHi()\n",
    "Spanish.sayBye()\n",
    "Spanish.sayThanks()\n"
   ]
  },
  {
   "cell_type": "code",
   "execution_count": null,
   "metadata": {},
   "outputs": [],
   "source": [
    "## HW1: add another property for each language\n",
    "## HW2: add another class for a language"
   ]
  }
 ],
 "metadata": {
  "kernelspec": {
   "display_name": "Python 3",
   "language": "python",
   "name": "python3"
  },
  "language_info": {
   "codemirror_mode": {
    "name": "ipython",
    "version": 3
   },
   "file_extension": ".py",
   "mimetype": "text/x-python",
   "name": "python",
   "nbconvert_exporter": "python",
   "pygments_lexer": "ipython3",
   "version": "3.11.8"
  }
 },
 "nbformat": 4,
 "nbformat_minor": 2
}
