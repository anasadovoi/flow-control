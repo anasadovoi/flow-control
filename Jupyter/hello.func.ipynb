{
 "cells": [
  {
   "cell_type": "markdown",
   "metadata": {},
   "source": []
  },
  {
   "cell_type": "markdown",
   "metadata": {},
   "source": [
    "Hello Function\n",
    "\n",
    " def functionName(p1, p2, ...):\n",
    "    ins_1\n",
    "    ins_2\n",
    "    ...\n",
    "    ins_N\n",
    "    return <value>"
   ]
  },
  {
   "cell_type": "markdown",
   "metadata": {},
   "source": [
    "Architect"
   ]
  },
  {
   "cell_type": "code",
   "execution_count": 6,
   "metadata": {},
   "outputs": [],
   "source": [
    "# function definition\n",
    "def hi(lang):\n",
    "    if lang == \"en\":\n",
    "      print(\"Hello\")\n",
    "    elif lang == \"ro\":\n",
    "      print(\"Salut\")\n",
    "    if lang == \"es\":\n",
    "      print(\"Hola\")"
   ]
  },
  {
   "cell_type": "markdown",
   "metadata": {},
   "source": [
    "User"
   ]
  },
  {
   "cell_type": "code",
   "execution_count": 7,
   "metadata": {},
   "outputs": [
    {
     "name": "stdout",
     "output_type": "stream",
     "text": [
      "Hello\n",
      "Hola\n",
      "Salut\n"
     ]
    }
   ],
   "source": [
    "#function call\n",
    "hi(\"en\")\n",
    "hi(\"es\")\n",
    "hi(\"ro\")"
   ]
  }
 ],
 "metadata": {
  "kernelspec": {
   "display_name": "Python 3",
   "language": "python",
   "name": "python3"
  },
  "language_info": {
   "codemirror_mode": {
    "name": "ipython",
    "version": 3
   },
   "file_extension": ".py",
   "mimetype": "text/x-python",
   "name": "python",
   "nbconvert_exporter": "python",
   "pygments_lexer": "ipython3",
   "version": "3.11.8"
  }
 },
 "nbformat": 4,
 "nbformat_minor": 2
}
