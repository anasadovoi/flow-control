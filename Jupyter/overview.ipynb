{
 "cells": [
  {
   "cell_type": "markdown",
   "metadata": {},
   "source": [
    "## Functional programming in python\n",
    "\n",
    "* The key of functional programming is the **function**\n",
    "\n",
    "-------\n",
    "\n",
    "* Function: a block of reusable code"
   ]
  },
  {
   "cell_type": "markdown",
   "metadata": {},
   "source": [
    "## Motivation\n",
    "\n",
    "say we have the code:"
   ]
  },
  {
   "cell_type": "code",
   "execution_count": 4,
   "metadata": {},
   "outputs": [],
   "source": [
    "def average(v1,v2):\n",
    "    return(v1+v2)/2"
   ]
  },
  {
   "cell_type": "code",
   "execution_count": 6,
   "metadata": {},
   "outputs": [
    {
     "name": "stdout",
     "output_type": "stream",
     "text": [
      "Average of 10 and 20 is 15.0\n",
      "Average of 12 and 17 is 14.5\n"
     ]
    }
   ],
   "source": [
    "x = 10\n",
    "y = 20\n",
    "\n",
    "avg_1 = average(x,y)\n",
    "print(f\"Average of {x} and {y} is {avg_1}\")\n",
    "\n",
    "from random import randint\n",
    "a = randint(10,20)\n",
    "b = randint(10,20)\n",
    "\n",
    "avg_2 = average(a,b)\n",
    "print(f\"Average of {a} and {b} is {avg_2}\")\n"
   ]
  },
  {
   "cell_type": "markdown",
   "metadata": {},
   "source": [
    "Benefits\n",
    "\n",
    "* DRY\n",
    "* Organize code hierarchicaly\n",
    "* Less coding\n",
    "* Less weight (code optimization)\n",
    "* Faster Code\n",
    "* Level up\n",
    "* Modular\n",
    "\n",
    "Key points:\n",
    "\n",
    "* first define then call\n",
    "* name\n",
    "* parameters < = ins\n",
    "* return value => outs\n",
    "* scops\n",
    "\n",
    "Recommendations:\n",
    "\n",
    "* KISS / Single responsibility principle (SRP)\n",
    "\n",
    "Usage:\n",
    "\n",
    "* User\n",
    "* Architecture"
   ]
  }
 ],
 "metadata": {
  "kernelspec": {
   "display_name": "Python 3",
   "language": "python",
   "name": "python3"
  },
  "language_info": {
   "codemirror_mode": {
    "name": "ipython",
    "version": 3
   },
   "file_extension": ".py",
   "mimetype": "text/x-python",
   "name": "python",
   "nbconvert_exporter": "python",
   "pygments_lexer": "ipython3",
   "version": "3.11.8"
  }
 },
 "nbformat": 4,
 "nbformat_minor": 2
}
