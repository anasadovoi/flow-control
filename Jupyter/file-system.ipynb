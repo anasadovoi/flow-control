{
 "cells": [
  {
   "cell_type": "markdown",
   "metadata": {},
   "source": [
    "## File system Ops\n",
    "    > create file\n",
    "    > remove file\n",
    "    > rename file\n",
    "    > copy file"
   ]
  },
  {
   "cell_type": "markdown",
   "metadata": {},
   "source": [
    "# Create file"
   ]
  },
  {
   "cell_type": "code",
   "execution_count": 11,
   "metadata": {},
   "outputs": [],
   "source": [
    "import os"
   ]
  },
  {
   "cell_type": "code",
   "execution_count": 12,
   "metadata": {},
   "outputs": [],
   "source": [
    "def createFile(file_name):\n",
    "    file = open(f\"./folder/{file_name}\", \"w\")\n",
    "    file.close()"
   ]
  },
  {
   "cell_type": "markdown",
   "metadata": {},
   "source": [
    "# Remove File"
   ]
  },
  {
   "cell_type": "code",
   "execution_count": 15,
   "metadata": {},
   "outputs": [],
   "source": [
    "def removeFile(file_name):\n",
    "    os.remove(f\"./folder/{file_name}\")"
   ]
  },
  {
   "cell_type": "markdown",
   "metadata": {},
   "source": [
    "# Rename File"
   ]
  },
  {
   "cell_type": "code",
   "execution_count": 17,
   "metadata": {},
   "outputs": [],
   "source": [
    "def renameFile(old_file_name, new_file_name):\n",
    "    os.rename(f\"./folder/{old_file_name}\",f\"./folder/{new_file_name}\")"
   ]
  },
  {
   "cell_type": "markdown",
   "metadata": {},
   "source": [
    "# Copy File"
   ]
  },
  {
   "cell_type": "code",
   "execution_count": 24,
   "metadata": {},
   "outputs": [],
   "source": [
    "def copyFile(src_file_name, dst_file_name):\n",
    "    # file_src = open(f\"./folder/{src_file_name}\", \"r\")\n",
    "    # file_dst = open(f\"./folder/{dst_file_name}\", \"w\")\n",
    "\n",
    "    # file_dst.write( file_src.read())\n",
    "\n",
    "    # file_src.close()\n",
    "    # file_dst.close()\n",
    "    os.system(f\" cp. ./folder/{src_file_name} ./folder/{dst_file_name}\")"
   ]
  },
  {
   "cell_type": "markdown",
   "metadata": {},
   "source": [
    "# Testing Our Functions"
   ]
  },
  {
   "cell_type": "code",
   "execution_count": 25,
   "metadata": {},
   "outputs": [],
   "source": [
    "#createFile(\"copy.txt\")\n",
    "#removeFile(\"another-file.txt\")\n",
    "#renameFile(\"another-file.txt\", \"new-file.txt\")\n",
    "copyFile(\"new-file.txt\", \"copy.txt\")"
   ]
  }
 ],
 "metadata": {
  "kernelspec": {
   "display_name": "Python 3",
   "language": "python",
   "name": "python3"
  },
  "language_info": {
   "codemirror_mode": {
    "name": "ipython",
    "version": 3
   },
   "file_extension": ".py",
   "mimetype": "text/x-python",
   "name": "python",
   "nbconvert_exporter": "python",
   "pygments_lexer": "ipython3",
   "version": "3.11.8"
  }
 },
 "nbformat": 4,
 "nbformat_minor": 2
}
